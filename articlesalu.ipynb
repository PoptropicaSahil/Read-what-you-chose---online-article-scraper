{
 "cells": [
  {
   "cell_type": "code",
   "execution_count": 1,
   "id": "7e779f9d",
   "metadata": {},
   "outputs": [],
   "source": [
    "import json\n",
    "import feedparser\n",
    "import random\n",
    "import webbrowser"
   ]
  },
  {
   "cell_type": "code",
   "execution_count": 2,
   "id": "50627abe",
   "metadata": {},
   "outputs": [],
   "source": [
    "website_list = ['https://newsletter.bringthedonuts.com/feed', \"https://blackboxofpm.com/feed\", \n",
    "               'https://hitenism.com/feed/', 'https://cdn.hackernoon.com/tagged/product-management/feed',\n",
    "               'https://cdn.hackernoon.com/tagged/product-manager/feed', 'https://feedpress.me/elezea',\n",
    "               'https://medium.com/feed/women-in-product-blogs', 'https://jaystansell.medium.com/feed',\n",
    "               'https://www.producttalk.org/feed/' , 'https://www.producttalk.org/blog/feed/']"
   ]
  },
  {
   "cell_type": "code",
   "execution_count": null,
   "id": "7b49f935",
   "metadata": {},
   "outputs": [
    {
     "name": "stdout",
     "output_type": "stream",
     "text": [
      "Stories by Jay Stansell on Medium https://medium.com/@jaystansell?source=rss-7023b826d0ba------2 { 10 } \n",
      "\n",
      "\n",
      "OPEN karna kya bhai? (Y/N)\n",
      "n\n",
      "\n",
      "\n",
      "Hacker Noon - product-manager http://github.com/dylang/node-rss { 87 } \n",
      "\n",
      "\tTITLE Great Product Managers Love Reviewing Code\n",
      "\tLINK https://hackernoon.com/great-product-managers-love-reviewing-code-ec80e614518d?source=rss\n",
      "\tAUTHOR PullRequest\n",
      "\tDATE PUBLISHED Mon, 10 Dec 2018 16:12:29 GMT\n",
      "\tTAGS ['mvp-development', 'mvp', 'software-development', 'prototype', 'prototyping', 'what-is-an-mvp', 'product-development', 'product-manager']\n",
      "\n",
      "OPEN karna kya bhai? (Y/N)\n",
      "n\n",
      "\n",
      "\n",
      "The Black Box of Product Management - Medium https://blackboxofpm.com?source=rss----797f3dde3f2b---4 { 10 } \n",
      "\n",
      "\tTITLE Ruthless Prioritization\n",
      "\tLINK https://blackboxofpm.com/ruthless-prioritization-e4256e3520a9?source=rss----797f3dde3f2b---4\n",
      "\tAUTHOR Brandon Chu\n",
      "\tDATE PUBLISHED Tue, 11 Apr 2017 18:44:18 GMT\n",
      "\tTAGS ['startup', 'technology', 'product-management']\n",
      "\n",
      "OPEN karna kya bhai? (Y/N)\n"
     ]
    }
   ],
   "source": [
    "while True:\n",
    "    feed_url = random.choice(website_list)\n",
    "    blog_feed = feedparser.parse(feed_url)\n",
    "\n",
    "\n",
    "    print(blog_feed.feed.title, blog_feed.feed.link,'{', len(blog_feed.entries),'}', '\\n' )\n",
    "#     print(blog_feed.feed.link)\n",
    "#     print(f'{len(blog_feed.entries)} articles found')\n",
    "    \n",
    "    i = random.randint(0, len(blog_feed.entries))\n",
    "\n",
    "    try:\n",
    "        print('\\tTITLE', blog_feed.entries[i].title)\n",
    "        print('\\tLINK', blog_feed.entries[i].link)\n",
    "        print('\\tAUTHOR', blog_feed.entries[i].author)\n",
    "        print('\\tDATE PUBLISHED', blog_feed.entries[i].published)\n",
    "    except:\n",
    "        pass\n",
    "\n",
    "    try: \n",
    "        tags = [tag.term for tag in blog_feed.entries[0].tags]\n",
    "        print('\\tTAGS', tags)\n",
    "    except:\n",
    "        pass\n",
    "\n",
    "    \n",
    "    print(\"\\nOPEN karna kya bhai? (Y/N)\")\n",
    "    ans = input(\"\").lower()\n",
    "\n",
    "    if ans == \"y\":\n",
    "        webbrowser.open(blog_feed.entries[i].link)\n",
    "        break\n",
    "    elif ans == \"n\":\n",
    "        print('\\n')\n",
    "        continue\n",
    "    elif (ans == 'exit') or (ans == 'quit'):\n",
    "        print('exited successfully!')\n",
    "        break\n",
    "    else:\n",
    "        print(\"kuch bhi random enter nahi karneka bhai\")\n",
    "        pass\n",
    "    \n",
    "    print('\\n\\n')"
   ]
  }
 ],
 "metadata": {
  "kernelspec": {
   "display_name": "Python 3 (ipykernel)",
   "language": "python",
   "name": "python3"
  },
  "language_info": {
   "codemirror_mode": {
    "name": "ipython",
    "version": 3
   },
   "file_extension": ".py",
   "mimetype": "text/x-python",
   "name": "python",
   "nbconvert_exporter": "python",
   "pygments_lexer": "ipython3",
   "version": "3.8.12"
  }
 },
 "nbformat": 4,
 "nbformat_minor": 5
}
