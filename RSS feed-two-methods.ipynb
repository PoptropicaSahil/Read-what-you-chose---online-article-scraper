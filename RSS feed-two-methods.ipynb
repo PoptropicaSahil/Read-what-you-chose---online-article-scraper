{
 "cells": [
  {
   "cell_type": "code",
   "execution_count": null,
   "id": "11034310",
   "metadata": {},
   "outputs": [],
   "source": [
    "import json\n",
    "import feedparser\n",
    "import random\n",
    "\n",
    "import webbrowser"
   ]
  },
  {
   "cell_type": "code",
   "execution_count": null,
   "id": "c252ee96",
   "metadata": {},
   "outputs": [],
   "source": [
    "website_list = ['https://newsletter.bringthedonuts.com/feed', \"https://blackboxofpm.com/feed\", \n",
    "               'https://hitenism.com/feed/', 'https://cdn.hackernoon.com/tagged/product-management/feed',\n",
    "               'https://cdn.hackernoon.com/tagged/product-manager/feed', 'https://feedpress.me/elezea',\n",
    "               'https://medium.com/feed/women-in-product-blogs', 'https://jaystansell.medium.com/feed',\n",
    "               'https://www.producttalk.org/feed/' , 'https://www.producttalk.org/blog/feed/']"
   ]
  },
  {
   "cell_type": "code",
   "execution_count": null,
   "id": "3df08118",
   "metadata": {},
   "outputs": [],
   "source": [
    "while True:\n",
    "    feed_url = random.choice(website_list)\n",
    "    blog_feed = feedparser.parse(feed_url)\n",
    "\n",
    "\n",
    "    print(blog_feed.feed.title, blog_feed.feed.link,'{', len(blog_feed.entries),'}', '\\n' )\n",
    "#     print(blog_feed.feed.link)\n",
    "#     print(f'{len(blog_feed.entries)} articles found')\n",
    "    \n",
    "    i = random.randint(0, len(blog_feed.entries))\n",
    "\n",
    "    try:\n",
    "        print('\\tTITLE', blog_feed.entries[i].title)\n",
    "        print('\\tLINK', blog_feed.entries[i].link)\n",
    "        print('\\tAUTHOR', blog_feed.entries[i].author)\n",
    "        print('\\tDATE PUBLISHED', blog_feed.entries[i].published)\n",
    "    except:\n",
    "        pass\n",
    "\n",
    "    try: \n",
    "        tags = [tag.term for tag in blog_feed.entries[0].tags]\n",
    "        print('\\tTAGS', tags)\n",
    "    except:\n",
    "        pass\n",
    "\n",
    "    \n",
    "    print(\"\\nOPEN karna kya bhai? (Y/N)\")\n",
    "    ans = input(\"\").lower()\n",
    "\n",
    "    if ans == \"y\":\n",
    "        webbrowser.open(blog_feed.entries[i].link)\n",
    "        break\n",
    "    elif ans == \"n\":\n",
    "        print('\\n')\n",
    "        continue\n",
    "    elif ans =='exit':\n",
    "        break\n",
    "    else:\n",
    "        print(\"Wrong choice!\")\n",
    "        pass\n",
    "    \n",
    "    print('\\n\\n')"
   ]
  },
  {
   "cell_type": "code",
   "execution_count": null,
   "id": "049f0607",
   "metadata": {},
   "outputs": [],
   "source": []
  },
  {
   "cell_type": "markdown",
   "id": "dca8d2b2",
   "metadata": {},
   "source": [
    "### This also worked"
   ]
  },
  {
   "cell_type": "markdown",
   "id": "477b2f0e",
   "metadata": {},
   "source": [
    "https://gist.github.com/nikhilkumarsingh/9c0b71da07c871e2a6af5d853fda5484"
   ]
  },
  {
   "cell_type": "code",
   "execution_count": null,
   "id": "ceec9b0b",
   "metadata": {},
   "outputs": [],
   "source": [
    "# import requests\n",
    "# from bs4 import BeautifulSoup\n",
    "\n",
    "# url = \"https://blackboxofpm.com/feed\"\n",
    "\n",
    "# resp = requests.get(url)\n",
    "# soup = BeautifulSoup(resp.content, features=\"xml\")\n",
    "# items = soup.findAll('item')\n",
    "# news_items = []\n",
    "\n",
    "# items\n",
    "\n",
    "# i = 0\n",
    "# for item in items:\n",
    "#     print(item.title.text)\n",
    "#     print(item.link.text)\n",
    "#     print('\\n')\n",
    "#     i +=1\n",
    "#     if i == 5:\n",
    "#         break\n",
    "\n",
    "# for item in items:\n",
    "#     news_item = {}\n",
    "#     news_item['title'] = item.title.text\n",
    "#     news_item['link'] = item.link.text\n",
    "#     news_items.append(news_item)\n",
    "\n",
    "# print(news_items)"
   ]
  },
  {
   "cell_type": "code",
   "execution_count": null,
   "id": "c6af3d4f",
   "metadata": {},
   "outputs": [],
   "source": []
  }
 ],
 "metadata": {
  "kernelspec": {
   "display_name": "Python 3 (ipykernel)",
   "language": "python",
   "name": "python3"
  },
  "language_info": {
   "codemirror_mode": {
    "name": "ipython",
    "version": 3
   },
   "file_extension": ".py",
   "mimetype": "text/x-python",
   "name": "python",
   "nbconvert_exporter": "python",
   "pygments_lexer": "ipython3",
   "version": "3.8.12"
  }
 },
 "nbformat": 4,
 "nbformat_minor": 5
}
