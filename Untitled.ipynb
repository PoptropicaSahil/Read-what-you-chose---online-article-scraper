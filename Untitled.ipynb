{
 "cells": [
  {
   "cell_type": "code",
   "execution_count": 1,
   "id": "96839e73",
   "metadata": {},
   "outputs": [],
   "source": [
    "import requests\n",
    "from bs4 import BeautifulSoup as bs\n",
    "from random import randint\n",
    "from time import sleep"
   ]
  },
  {
   "cell_type": "code",
   "execution_count": 18,
   "id": "3eefb81c",
   "metadata": {},
   "outputs": [],
   "source": [
    "URL = 'https://www.geeksforgeeks.org/'"
   ]
  },
  {
   "cell_type": "code",
   "execution_count": null,
   "id": "1bc9f13d",
   "metadata": {},
   "outputs": [],
   "source": []
  },
  {
   "cell_type": "code",
   "execution_count": 8,
   "id": "7f0c3dc7",
   "metadata": {},
   "outputs": [
    {
     "name": "stdout",
     "output_type": "stream",
     "text": [
      "<div class=\"head\">Write</div>\n",
      "Write\n",
      "33\n"
     ]
    }
   ],
   "source": [
    "for page in range(1,10): \n",
    "    # pls note that the total number of\n",
    "    # pages in the website is more than 5000 so i'm only taking the\n",
    "    # first 10 as this is just an example\n",
    "  \n",
    "    req = requests.get(URL + str(page) + '/')\n",
    "    soup = bs(req.text, 'html.parser')\n",
    "  \n",
    "    titles = soup.find_all('div',attrs={'class','head'})\n",
    "    print(titles[0])\n",
    "    # print(titles)\n",
    "    print(titles[0].text)\n",
    "    print(len(titles))\n",
    "    # break\n",
    "  \n",
    "    for i in range(4,19):\n",
    "        if page>1:\n",
    "            print(f\"{(i-3)+page*15}\" + titles[i].text)\n",
    "        else:\n",
    "            print(f\"{i-3}\" + titles[i].text)\n",
    "  \n",
    "    sleep(randint(2,10))"
   ]
  },
  {
   "cell_type": "markdown",
   "id": "2fe67af8",
   "metadata": {},
   "source": [
    "https://www.codesnail.com/random-wikipedia-article-generator-in-python/amp/"
   ]
  },
  {
   "cell_type": "code",
   "execution_count": 10,
   "id": "e81a3fcc",
   "metadata": {},
   "outputs": [],
   "source": [
    "# !pip install beautifulsoup4"
   ]
  },
  {
   "cell_type": "code",
   "execution_count": 12,
   "id": "913440f2",
   "metadata": {},
   "outputs": [],
   "source": [
    "import requests\n",
    "from bs4 import BeautifulSoup\n",
    "import webbrowser"
   ]
  },
  {
   "cell_type": "code",
   "execution_count": null,
   "id": "baf7077f",
   "metadata": {},
   "outputs": [
    {
     "name": "stdout",
     "output_type": "stream",
     "text": [
      "Write \n",
      "Do you want to view it? (Y/N)\n"
     ]
    }
   ],
   "source": [
    "while True:\n",
    "    url = requests.get(URL)\n",
    "    soup = BeautifulSoup(url.content, \"html.parser\")\n",
    "    title = soup.find(attrs = {'class','head'}).text\n",
    "\n",
    "    print(f\"{title} \\nDo you want to view it? (Y/N)\")\n",
    "    ans = input(\"\").lower()\n",
    "\n",
    "    if ans == \"y\":\n",
    "        url = \"https://en.wikipedia.org/wiki/%s\" % title\n",
    "        webbrowser.open(url)\n",
    "        break\n",
    "    elif ans == \"n\":\n",
    "        print(\"Try again!\")\n",
    "        continue\n",
    "    else:\n",
    "        print(\"Wrong choice!\")\n",
    "        break"
   ]
  },
  {
   "cell_type": "code",
   "execution_count": null,
   "id": "6bc1e5e1",
   "metadata": {},
   "outputs": [],
   "source": []
  }
 ],
 "metadata": {
  "kernelspec": {
   "display_name": "Python 3 (ipykernel)",
   "language": "python",
   "name": "python3"
  },
  "language_info": {
   "codemirror_mode": {
    "name": "ipython",
    "version": 3
   },
   "file_extension": ".py",
   "mimetype": "text/x-python",
   "name": "python",
   "nbconvert_exporter": "python",
   "pygments_lexer": "ipython3",
   "version": "3.8.12"
  }
 },
 "nbformat": 4,
 "nbformat_minor": 5
}
